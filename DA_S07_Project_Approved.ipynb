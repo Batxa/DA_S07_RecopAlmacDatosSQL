{
 "cells": [
  {
   "cell_type": "markdown",
   "metadata": {},
   "source": [
    "# ¡Hola Juan!\n",
    "\n",
    "Mi nombre es Ezequiel Ferrario, soy code reviewer en Tripleten y tengo el agrado de revisar el proyecto que entregaste.\n",
    "\n",
    "Para simular la dinámica de un ambiente de trabajo, si veo algún error, en primer instancia solo los señalaré, dándote la oportunidad de encontrarlos y corregirlos por tu cuenta. En un trabajo real, el líder de tu equipo hará una dinámica similar. En caso de que no puedas resolver la tarea, te daré una información más precisa en la próxima revisión.\n",
    "\n",
    "Encontrarás mis comentarios más abajo - **por favor, no los muevas, no los modifiques ni los borres**.\n",
    "\n",
    "¿Cómo lo voy a hacer? Voy a leer detenidamente cada una de las implementaciones que has llevado a cabo para cumplir con lo solicitado. Verás los comentarios de esta forma:\n",
    "\n",
    "<div class=\"alert alert-block alert-success\">\n",
    "<b>Comentario del revisor</b> <a class=\"tocSkip\"></a>\n",
    "\n",
    "Si todo está perfecto.\n",
    "</div>\n",
    "\n",
    "\n",
    "<div class=\"alert alert-block alert-warning\">\n",
    "<b>Comentario del revisor</b> <a class=\"tocSkip\"></a>\n",
    "\n",
    "Si tu código está bien pero se puede mejorar o hay algún detalle que le hace falta. Se aceptan uno o dos comentarios de este tipo en el borrador, pero si hay más, deberá hacer las correcciones. Es como una tarea de prueba al solicitar un trabajo: muchos pequeños errores pueden hacer que un candidato sea rechazado.\n",
    "</div>\n",
    "\n",
    "<div class=\"alert alert-block alert-danger\">\n",
    "\n",
    "<b>Comentario del revisor</b> <a class=\"tocSkip\"></a>\n",
    "\n",
    "Si de pronto hace falta algo o existe algún problema con tu código o conclusiones.\n",
    "</div>\n",
    "\n",
    "Puedes responderme de esta forma:\n",
    "\n",
    "<div class=\"alert alert-block alert-info\">\n",
    "<b>Respuesta del estudiante</b> <a class=\"tocSkip\"></a>\n",
    "\n",
    "Hola, muchas gracias por tus comentarios y la revisión.\n",
    "</div>\n",
    "\n",
    "¡Empecemos!"
   ]
  },
  {
   "cell_type": "markdown",
   "metadata": {},
   "source": [
    "<div class=\"alert alert-block alert-danger\">\n",
    "\n",
    "<b>Comentario del revisor</b> <a class=\"tocSkip\"></a>\n",
    "\n",
    "Hace un tabla de contenidos que este  linkeada a las secciones (al clickear debe llevarnos a esa seccion) de esta menera es mas facil desplazarse.\n",
    "\n",
    "Como consejo, si realizas bien todas las secciones (con su respectivo #) podes generarlo automáticamente desde jupyter lab. Para hacerlo, en la pestaña de herramientas de jupyter lab clickeas en el **botón de los puntos y barras**  (Table of contents) te generara automáticamente una tabla de contenidos linkeable y estética. A la **derecha** del botón \"Validate\"\n",
    "</div>"
   ]
  },
  {
   "cell_type": "markdown",
   "metadata": {},
   "source": [
    "<div class=\"alert alert-block alert-info\">\n",
    "He agregado una tabla de contenidos.\n",
    "</div>"
   ]
  },
  {
   "cell_type": "markdown",
   "metadata": {},
   "source": [
    "<div class=\"alert alert-block alert-success\">\n",
    "\n",
    "<b>Comentario del revisor</b> <a class=\"tocSkip\"></a>\n",
    "\n",
    "Corregido.\n",
    "</div>"
   ]
  },
  {
   "cell_type": "markdown",
   "metadata": {},
   "source": [
    " Para estos dos datasets ahora necesitas\n",
    "importar los archivos\n",
    "estudiar los datos que contienen\n",
    "asegurarte de que los tipos de datos sean correctos\n",
    "identificar los 10 principales barrios en términos de finalización del recorrido\n",
    "hacer gráficos: empresas de taxis y número de viajes, los 10 barrios principales por número de finalizaciones\n",
    "sacar conclusiones basadas en cada gráfico y explicar los resultados"
   ]
  },
  {
   "cell_type": "markdown",
   "metadata": {},
   "source": [
    "<div class=\"alert alert-block alert-warning\">\n",
    "\n",
    "<b>Comentario del revisor</b> <a class=\"tocSkip\"></a>\n",
    "\n",
    "Este comentario es una guia, podrias eliminarlo.</div>"
   ]
  },
  {
   "cell_type": "markdown",
   "metadata": {},
   "source": [
    "<div class=\"alert alert-block alert-danger\">\n",
    "\n",
    "<b>Comentario del revisor</b> <a class=\"tocSkip\"></a>\n",
    "\n",
    "Juan, recorda realizar una introduccion al proyecto, explicando los objetivos y explicando de que se trata. Esto es muy importante de hacer para asentar las bases del proyecto, ademas de dejar en claro que se busca. A partir de una mirada a la introduccion ya entenderemos que buscamos con el proyecto.</div>"
   ]
  },
  {
   "cell_type": "markdown",
   "metadata": {},
   "source": [
    "<div class=\"alert alert-block alert-info\">\n",
    "He agregado un paso adicional, previo a iniciar el trabajo y en función de brindar una introduccción.\n",
    "</div>\n",
    "\n",
    "<div class=\"alert alert-block alert-success\">\n",
    "\n",
    "<b>Comentario del revisor</b> <a class=\"tocSkip\"></a>\n",
    "\n",
    "Corregido.\n",
    "</div>"
   ]
  },
  {
   "cell_type": "markdown",
   "metadata": {},
   "source": [
    "# Paso 0. Introducción y objetivos"
   ]
  },
  {
   "cell_type": "markdown",
   "metadata": {},
   "source": [
    "El presente trabajo corresponde a la unidad nro 7 del curso de Data Analytics de TripleTen, denominada \"Recopilación y Almacenamiento de Datos (SQL)\". <br> El trabajo consta del análisis de datos presentados a partir de un extracto de registros de una empresa de taxis. Nótese que los datos son extractos y no registros de una tabla \"madre\". <br> El objetivo es realizar un análisis de los datos disponibles siguiendo un esquema para el EDA (Exploratory Data Analysis). Si bien se brindan algunos lineamientos al estudiante, también se espera que el estudiante proponga una secuencia de trabajo."
   ]
  },
  {
   "cell_type": "markdown",
   "metadata": {},
   "source": [
    "# Paso 1. Importación de Librerías y Carga de Datos"
   ]
  },
  {
   "cell_type": "code",
   "execution_count": 1,
   "metadata": {},
   "outputs": [],
   "source": [
    "# Cargar todas las librerías\n",
    "import pandas as pd\n",
    "import numpy as np\n",
    "import seaborn as sns\n",
    "import matplotlib as mpl\n",
    "from matplotlib import pyplot as plt\n",
    "from math import factorial\n",
    "from scipy import stats as st"
   ]
  },
  {
   "cell_type": "code",
   "execution_count": 2,
   "metadata": {},
   "outputs": [],
   "source": [
    "company = pd.read_csv('https://practicum-content.s3.us-west-1.amazonaws.com/learning-materials/data-analyst-eng/moved_project_sql_result_01.csv', sep=',')\n",
    "location = pd.read_csv('https://practicum-content.s3.us-west-1.amazonaws.com/learning-materials/data-analyst-eng/moved_project_sql_result_04.csv', sep=',')\n",
    "airport_trips = pd.read_csv('https://practicum-content.s3.us-west-1.amazonaws.com/learning-materials/data-analyst-eng/moved_project_sql_result_07.csv', sep=',')\n",
    "#contiene info solo para los dias Sabado"
   ]
  },
  {
   "cell_type": "markdown",
   "metadata": {},
   "source": [
    "# Paso 2. Preparación de Datos"
   ]
  },
  {
   "cell_type": "markdown",
   "metadata": {},
   "source": [
    "## 2.0  Plan de Trabajo"
   ]
  },
  {
   "cell_type": "markdown",
   "metadata": {},
   "source": [
    "1) Revisión, evaluación y tratamiento de nombres de campos\n",
    "2) Revisión, evaluación y tratamiento de tipos de datos. Descripción de cambios realizados en los tipos de datos\n",
    "3) Revisión, evaluación y tratamiento de valores ausentes\n",
    "4) Revisión, evaluación y tratamiento de valores duplicados\n",
    "5) Conclusiones"
   ]
  },
  {
   "cell_type": "markdown",
   "metadata": {},
   "source": [
    "## 2.1 Revisión, evaluación y tratamiento de nombres de campos"
   ]
  },
  {
   "cell_type": "code",
   "execution_count": 3,
   "metadata": {},
   "outputs": [
    {
     "data": {
      "text/html": [
       "<div>\n",
       "<style scoped>\n",
       "    .dataframe tbody tr th:only-of-type {\n",
       "        vertical-align: middle;\n",
       "    }\n",
       "\n",
       "    .dataframe tbody tr th {\n",
       "        vertical-align: top;\n",
       "    }\n",
       "\n",
       "    .dataframe thead th {\n",
       "        text-align: right;\n",
       "    }\n",
       "</style>\n",
       "<table border=\"1\" class=\"dataframe\">\n",
       "  <thead>\n",
       "    <tr style=\"text-align: right;\">\n",
       "      <th></th>\n",
       "      <th>company_name</th>\n",
       "      <th>trips_amount</th>\n",
       "    </tr>\n",
       "  </thead>\n",
       "  <tbody>\n",
       "    <tr>\n",
       "      <th>0</th>\n",
       "      <td>Flash Cab</td>\n",
       "      <td>19558</td>\n",
       "    </tr>\n",
       "    <tr>\n",
       "      <th>1</th>\n",
       "      <td>Taxi Affiliation Services</td>\n",
       "      <td>11422</td>\n",
       "    </tr>\n",
       "    <tr>\n",
       "      <th>2</th>\n",
       "      <td>Medallion Leasin</td>\n",
       "      <td>10367</td>\n",
       "    </tr>\n",
       "    <tr>\n",
       "      <th>3</th>\n",
       "      <td>Yellow Cab</td>\n",
       "      <td>9888</td>\n",
       "    </tr>\n",
       "    <tr>\n",
       "      <th>4</th>\n",
       "      <td>Taxi Affiliation Service Yellow</td>\n",
       "      <td>9299</td>\n",
       "    </tr>\n",
       "  </tbody>\n",
       "</table>\n",
       "</div>"
      ],
      "text/plain": [
       "                      company_name  trips_amount\n",
       "0                        Flash Cab         19558\n",
       "1        Taxi Affiliation Services         11422\n",
       "2                 Medallion Leasin         10367\n",
       "3                       Yellow Cab          9888\n",
       "4  Taxi Affiliation Service Yellow          9299"
      ]
     },
     "execution_count": 3,
     "metadata": {},
     "output_type": "execute_result"
    }
   ],
   "source": [
    "company.head()"
   ]
  },
  {
   "cell_type": "code",
   "execution_count": 4,
   "metadata": {},
   "outputs": [
    {
     "data": {
      "text/html": [
       "<div>\n",
       "<style scoped>\n",
       "    .dataframe tbody tr th:only-of-type {\n",
       "        vertical-align: middle;\n",
       "    }\n",
       "\n",
       "    .dataframe tbody tr th {\n",
       "        vertical-align: top;\n",
       "    }\n",
       "\n",
       "    .dataframe thead th {\n",
       "        text-align: right;\n",
       "    }\n",
       "</style>\n",
       "<table border=\"1\" class=\"dataframe\">\n",
       "  <thead>\n",
       "    <tr style=\"text-align: right;\">\n",
       "      <th></th>\n",
       "      <th>dropoff_location_name</th>\n",
       "      <th>average_trips</th>\n",
       "    </tr>\n",
       "  </thead>\n",
       "  <tbody>\n",
       "    <tr>\n",
       "      <th>0</th>\n",
       "      <td>Loop</td>\n",
       "      <td>10727.466667</td>\n",
       "    </tr>\n",
       "    <tr>\n",
       "      <th>1</th>\n",
       "      <td>River North</td>\n",
       "      <td>9523.666667</td>\n",
       "    </tr>\n",
       "    <tr>\n",
       "      <th>2</th>\n",
       "      <td>Streeterville</td>\n",
       "      <td>6664.666667</td>\n",
       "    </tr>\n",
       "    <tr>\n",
       "      <th>3</th>\n",
       "      <td>West Loop</td>\n",
       "      <td>5163.666667</td>\n",
       "    </tr>\n",
       "    <tr>\n",
       "      <th>4</th>\n",
       "      <td>O'Hare</td>\n",
       "      <td>2546.900000</td>\n",
       "    </tr>\n",
       "  </tbody>\n",
       "</table>\n",
       "</div>"
      ],
      "text/plain": [
       "  dropoff_location_name  average_trips\n",
       "0                  Loop   10727.466667\n",
       "1           River North    9523.666667\n",
       "2         Streeterville    6664.666667\n",
       "3             West Loop    5163.666667\n",
       "4                O'Hare    2546.900000"
      ]
     },
     "execution_count": 4,
     "metadata": {},
     "output_type": "execute_result"
    }
   ],
   "source": [
    "location.head()"
   ]
  },
  {
   "cell_type": "code",
   "execution_count": 5,
   "metadata": {},
   "outputs": [
    {
     "data": {
      "text/html": [
       "<div>\n",
       "<style scoped>\n",
       "    .dataframe tbody tr th:only-of-type {\n",
       "        vertical-align: middle;\n",
       "    }\n",
       "\n",
       "    .dataframe tbody tr th {\n",
       "        vertical-align: top;\n",
       "    }\n",
       "\n",
       "    .dataframe thead th {\n",
       "        text-align: right;\n",
       "    }\n",
       "</style>\n",
       "<table border=\"1\" class=\"dataframe\">\n",
       "  <thead>\n",
       "    <tr style=\"text-align: right;\">\n",
       "      <th></th>\n",
       "      <th>start_ts</th>\n",
       "      <th>weather_conditions</th>\n",
       "      <th>duration_seconds</th>\n",
       "    </tr>\n",
       "  </thead>\n",
       "  <tbody>\n",
       "    <tr>\n",
       "      <th>0</th>\n",
       "      <td>2017-11-25 16:00:00</td>\n",
       "      <td>Good</td>\n",
       "      <td>2410.0</td>\n",
       "    </tr>\n",
       "    <tr>\n",
       "      <th>1</th>\n",
       "      <td>2017-11-25 14:00:00</td>\n",
       "      <td>Good</td>\n",
       "      <td>1920.0</td>\n",
       "    </tr>\n",
       "    <tr>\n",
       "      <th>2</th>\n",
       "      <td>2017-11-25 12:00:00</td>\n",
       "      <td>Good</td>\n",
       "      <td>1543.0</td>\n",
       "    </tr>\n",
       "    <tr>\n",
       "      <th>3</th>\n",
       "      <td>2017-11-04 10:00:00</td>\n",
       "      <td>Good</td>\n",
       "      <td>2512.0</td>\n",
       "    </tr>\n",
       "    <tr>\n",
       "      <th>4</th>\n",
       "      <td>2017-11-11 07:00:00</td>\n",
       "      <td>Good</td>\n",
       "      <td>1440.0</td>\n",
       "    </tr>\n",
       "  </tbody>\n",
       "</table>\n",
       "</div>"
      ],
      "text/plain": [
       "              start_ts weather_conditions  duration_seconds\n",
       "0  2017-11-25 16:00:00               Good            2410.0\n",
       "1  2017-11-25 14:00:00               Good            1920.0\n",
       "2  2017-11-25 12:00:00               Good            1543.0\n",
       "3  2017-11-04 10:00:00               Good            2512.0\n",
       "4  2017-11-11 07:00:00               Good            1440.0"
      ]
     },
     "execution_count": 5,
     "metadata": {},
     "output_type": "execute_result"
    }
   ],
   "source": [
    "airport_trips.head()"
   ]
  },
  {
   "cell_type": "markdown",
   "metadata": {},
   "source": [
    "-->> Conlusión: los formatos de nombres de campos están correctos"
   ]
  },
  {
   "cell_type": "markdown",
   "metadata": {},
   "source": [
    "## 2.2 Revisión, evaluación y tratamiento de tipos de datos"
   ]
  },
  {
   "cell_type": "code",
   "execution_count": 6,
   "metadata": {},
   "outputs": [
    {
     "name": "stdout",
     "output_type": "stream",
     "text": [
      "<class 'pandas.core.frame.DataFrame'>\n",
      "RangeIndex: 64 entries, 0 to 63\n",
      "Data columns (total 2 columns):\n",
      " #   Column        Non-Null Count  Dtype \n",
      "---  ------        --------------  ----- \n",
      " 0   company_name  64 non-null     object\n",
      " 1   trips_amount  64 non-null     int64 \n",
      "dtypes: int64(1), object(1)\n",
      "memory usage: 1.1+ KB\n"
     ]
    }
   ],
   "source": [
    "company.info()"
   ]
  },
  {
   "cell_type": "code",
   "execution_count": 7,
   "metadata": {},
   "outputs": [
    {
     "name": "stdout",
     "output_type": "stream",
     "text": [
      "<class 'pandas.core.frame.DataFrame'>\n",
      "RangeIndex: 94 entries, 0 to 93\n",
      "Data columns (total 2 columns):\n",
      " #   Column                 Non-Null Count  Dtype  \n",
      "---  ------                 --------------  -----  \n",
      " 0   dropoff_location_name  94 non-null     object \n",
      " 1   average_trips          94 non-null     float64\n",
      "dtypes: float64(1), object(1)\n",
      "memory usage: 1.6+ KB\n"
     ]
    }
   ],
   "source": [
    "location.info()"
   ]
  },
  {
   "cell_type": "code",
   "execution_count": 8,
   "metadata": {},
   "outputs": [
    {
     "name": "stdout",
     "output_type": "stream",
     "text": [
      "<class 'pandas.core.frame.DataFrame'>\n",
      "RangeIndex: 1068 entries, 0 to 1067\n",
      "Data columns (total 3 columns):\n",
      " #   Column              Non-Null Count  Dtype  \n",
      "---  ------              --------------  -----  \n",
      " 0   start_ts            1068 non-null   object \n",
      " 1   weather_conditions  1068 non-null   object \n",
      " 2   duration_seconds    1068 non-null   float64\n",
      "dtypes: float64(1), object(2)\n",
      "memory usage: 25.2+ KB\n"
     ]
    }
   ],
   "source": [
    "airport_trips.info()"
   ]
  },
  {
   "cell_type": "markdown",
   "metadata": {},
   "source": [
    "Conversión de tipos de datos: para el dataset \"airport_trips\" convertiremos el campo \"start_ts\" a fecha. Luego haremos un check."
   ]
  },
  {
   "cell_type": "code",
   "execution_count": 9,
   "metadata": {},
   "outputs": [],
   "source": [
    "airport_trips['start_ts'] = pd.to_datetime(airport_trips['start_ts'])"
   ]
  },
  {
   "cell_type": "markdown",
   "metadata": {},
   "source": [
    "Agrego un campo para chequear los días de la semana (el enunciado del TP no especifica que es un extracto para los días Sábado), y quiero además chequear el período de fechas en que está filtrado el dataset."
   ]
  },
  {
   "cell_type": "code",
   "execution_count": 10,
   "metadata": {},
   "outputs": [
    {
     "name": "stdout",
     "output_type": "stream",
     "text": [
      "Fecha max 2017-11-25 23:00:00\n",
      "Fecha min 2017-11-04 00:00:00\n"
     ]
    },
    {
     "data": {
      "text/html": [
       "<div>\n",
       "<style scoped>\n",
       "    .dataframe tbody tr th:only-of-type {\n",
       "        vertical-align: middle;\n",
       "    }\n",
       "\n",
       "    .dataframe tbody tr th {\n",
       "        vertical-align: top;\n",
       "    }\n",
       "\n",
       "    .dataframe thead th {\n",
       "        text-align: right;\n",
       "    }\n",
       "</style>\n",
       "<table border=\"1\" class=\"dataframe\">\n",
       "  <thead>\n",
       "    <tr style=\"text-align: right;\">\n",
       "      <th></th>\n",
       "      <th>start_ts</th>\n",
       "      <th>weather_conditions</th>\n",
       "      <th>duration_seconds</th>\n",
       "      <th>weekday</th>\n",
       "    </tr>\n",
       "  </thead>\n",
       "  <tbody>\n",
       "    <tr>\n",
       "      <th>0</th>\n",
       "      <td>2017-11-25 16:00:00</td>\n",
       "      <td>Good</td>\n",
       "      <td>2410.0</td>\n",
       "      <td>Saturday</td>\n",
       "    </tr>\n",
       "    <tr>\n",
       "      <th>1</th>\n",
       "      <td>2017-11-25 14:00:00</td>\n",
       "      <td>Good</td>\n",
       "      <td>1920.0</td>\n",
       "      <td>Saturday</td>\n",
       "    </tr>\n",
       "    <tr>\n",
       "      <th>2</th>\n",
       "      <td>2017-11-25 12:00:00</td>\n",
       "      <td>Good</td>\n",
       "      <td>1543.0</td>\n",
       "      <td>Saturday</td>\n",
       "    </tr>\n",
       "    <tr>\n",
       "      <th>3</th>\n",
       "      <td>2017-11-04 10:00:00</td>\n",
       "      <td>Good</td>\n",
       "      <td>2512.0</td>\n",
       "      <td>Saturday</td>\n",
       "    </tr>\n",
       "    <tr>\n",
       "      <th>4</th>\n",
       "      <td>2017-11-11 07:00:00</td>\n",
       "      <td>Good</td>\n",
       "      <td>1440.0</td>\n",
       "      <td>Saturday</td>\n",
       "    </tr>\n",
       "    <tr>\n",
       "      <th>5</th>\n",
       "      <td>2017-11-11 04:00:00</td>\n",
       "      <td>Good</td>\n",
       "      <td>1320.0</td>\n",
       "      <td>Saturday</td>\n",
       "    </tr>\n",
       "    <tr>\n",
       "      <th>6</th>\n",
       "      <td>2017-11-04 16:00:00</td>\n",
       "      <td>Bad</td>\n",
       "      <td>2969.0</td>\n",
       "      <td>Saturday</td>\n",
       "    </tr>\n",
       "    <tr>\n",
       "      <th>7</th>\n",
       "      <td>2017-11-18 11:00:00</td>\n",
       "      <td>Good</td>\n",
       "      <td>2280.0</td>\n",
       "      <td>Saturday</td>\n",
       "    </tr>\n",
       "    <tr>\n",
       "      <th>8</th>\n",
       "      <td>2017-11-11 14:00:00</td>\n",
       "      <td>Good</td>\n",
       "      <td>2460.0</td>\n",
       "      <td>Saturday</td>\n",
       "    </tr>\n",
       "    <tr>\n",
       "      <th>9</th>\n",
       "      <td>2017-11-11 12:00:00</td>\n",
       "      <td>Good</td>\n",
       "      <td>2040.0</td>\n",
       "      <td>Saturday</td>\n",
       "    </tr>\n",
       "  </tbody>\n",
       "</table>\n",
       "</div>"
      ],
      "text/plain": [
       "             start_ts weather_conditions  duration_seconds   weekday\n",
       "0 2017-11-25 16:00:00               Good            2410.0  Saturday\n",
       "1 2017-11-25 14:00:00               Good            1920.0  Saturday\n",
       "2 2017-11-25 12:00:00               Good            1543.0  Saturday\n",
       "3 2017-11-04 10:00:00               Good            2512.0  Saturday\n",
       "4 2017-11-11 07:00:00               Good            1440.0  Saturday\n",
       "5 2017-11-11 04:00:00               Good            1320.0  Saturday\n",
       "6 2017-11-04 16:00:00                Bad            2969.0  Saturday\n",
       "7 2017-11-18 11:00:00               Good            2280.0  Saturday\n",
       "8 2017-11-11 14:00:00               Good            2460.0  Saturday\n",
       "9 2017-11-11 12:00:00               Good            2040.0  Saturday"
      ]
     },
     "execution_count": 10,
     "metadata": {},
     "output_type": "execute_result"
    }
   ],
   "source": [
    "airport_trips['weekday'] = airport_trips['start_ts'].dt.strftime('%A')\n",
    "print(f\"Fecha max {airport_trips['start_ts'].max()}\")\n",
    "print(f\"Fecha min {airport_trips['start_ts'].min()}\")\n",
    "airport_trips.head(10)"
   ]
  },
  {
   "cell_type": "code",
   "execution_count": null,
   "metadata": {},
   "outputs": [],
   "source": []
  },
  {
   "cell_type": "code",
   "execution_count": 11,
   "metadata": {},
   "outputs": [
    {
     "name": "stdout",
     "output_type": "stream",
     "text": [
      "<class 'pandas.core.frame.DataFrame'>\n",
      "RangeIndex: 1068 entries, 0 to 1067\n",
      "Data columns (total 4 columns):\n",
      " #   Column              Non-Null Count  Dtype         \n",
      "---  ------              --------------  -----         \n",
      " 0   start_ts            1068 non-null   datetime64[ns]\n",
      " 1   weather_conditions  1068 non-null   object        \n",
      " 2   duration_seconds    1068 non-null   float64       \n",
      " 3   weekday             1068 non-null   object        \n",
      "dtypes: datetime64[ns](1), float64(1), object(2)\n",
      "memory usage: 33.5+ KB\n"
     ]
    }
   ],
   "source": [
    "airport_trips.info()"
   ]
  },
  {
   "cell_type": "markdown",
   "metadata": {},
   "source": [
    "Conclusión: se observan los cambios aplicados."
   ]
  },
  {
   "cell_type": "markdown",
   "metadata": {},
   "source": [
    "## 2.3 Revisión, evaluación y tratamiento de valores ausentes"
   ]
  },
  {
   "cell_type": "code",
   "execution_count": 12,
   "metadata": {},
   "outputs": [
    {
     "data": {
      "text/plain": [
       "company_name    0\n",
       "trips_amount    0\n",
       "dtype: int64"
      ]
     },
     "execution_count": 12,
     "metadata": {},
     "output_type": "execute_result"
    }
   ],
   "source": [
    "company.isna().sum()"
   ]
  },
  {
   "cell_type": "code",
   "execution_count": 13,
   "metadata": {},
   "outputs": [
    {
     "data": {
      "text/plain": [
       "dropoff_location_name    0\n",
       "average_trips            0\n",
       "dtype: int64"
      ]
     },
     "execution_count": 13,
     "metadata": {},
     "output_type": "execute_result"
    }
   ],
   "source": [
    "location.isna().sum()"
   ]
  },
  {
   "cell_type": "code",
   "execution_count": 14,
   "metadata": {},
   "outputs": [
    {
     "data": {
      "text/plain": [
       "start_ts              0\n",
       "weather_conditions    0\n",
       "duration_seconds      0\n",
       "weekday               0\n",
       "dtype: int64"
      ]
     },
     "execution_count": 14,
     "metadata": {},
     "output_type": "execute_result"
    }
   ],
   "source": [
    "airport_trips.isna().sum()"
   ]
  },
  {
   "cell_type": "markdown",
   "metadata": {},
   "source": [
    "Conclusión: no se observan valores ausentes."
   ]
  },
  {
   "cell_type": "markdown",
   "metadata": {},
   "source": [
    "## 2.4 Revisión, evaluación y tratamiento de valores duplicados"
   ]
  },
  {
   "cell_type": "code",
   "execution_count": 15,
   "metadata": {},
   "outputs": [
    {
     "data": {
      "text/plain": [
       "0"
      ]
     },
     "execution_count": 15,
     "metadata": {},
     "output_type": "execute_result"
    }
   ],
   "source": [
    "company.duplicated().sum()"
   ]
  },
  {
   "cell_type": "code",
   "execution_count": 16,
   "metadata": {},
   "outputs": [
    {
     "data": {
      "text/plain": [
       "0"
      ]
     },
     "execution_count": 16,
     "metadata": {},
     "output_type": "execute_result"
    }
   ],
   "source": [
    "location.duplicated().sum()"
   ]
  },
  {
   "cell_type": "code",
   "execution_count": 17,
   "metadata": {},
   "outputs": [
    {
     "data": {
      "text/plain": [
       "197"
      ]
     },
     "execution_count": 17,
     "metadata": {},
     "output_type": "execute_result"
    }
   ],
   "source": [
    "airport_trips.duplicated().sum()"
   ]
  },
  {
   "cell_type": "markdown",
   "metadata": {},
   "source": [
    "Eliminaremos los valores duplicados del dataset \"airport_trips\" y luego haremos un check."
   ]
  },
  {
   "cell_type": "code",
   "execution_count": 18,
   "metadata": {},
   "outputs": [],
   "source": [
    "airport_trips = airport_trips.drop_duplicates().reset_index(drop=True)"
   ]
  },
  {
   "cell_type": "code",
   "execution_count": 19,
   "metadata": {},
   "outputs": [
    {
     "data": {
      "text/plain": [
       "0"
      ]
     },
     "execution_count": 19,
     "metadata": {},
     "output_type": "execute_result"
    }
   ],
   "source": [
    "airport_trips.duplicated().sum()"
   ]
  },
  {
   "cell_type": "markdown",
   "metadata": {},
   "source": [
    "Efectivamente se observa que se han eliminado los duplicados."
   ]
  },
  {
   "cell_type": "markdown",
   "metadata": {},
   "source": [
    "## 2.5 Estadísticas generales de los datasets "
   ]
  },
  {
   "cell_type": "code",
   "execution_count": 20,
   "metadata": {},
   "outputs": [
    {
     "data": {
      "text/html": [
       "<div>\n",
       "<style scoped>\n",
       "    .dataframe tbody tr th:only-of-type {\n",
       "        vertical-align: middle;\n",
       "    }\n",
       "\n",
       "    .dataframe tbody tr th {\n",
       "        vertical-align: top;\n",
       "    }\n",
       "\n",
       "    .dataframe thead th {\n",
       "        text-align: right;\n",
       "    }\n",
       "</style>\n",
       "<table border=\"1\" class=\"dataframe\">\n",
       "  <thead>\n",
       "    <tr style=\"text-align: right;\">\n",
       "      <th></th>\n",
       "      <th>trips_amount</th>\n",
       "    </tr>\n",
       "  </thead>\n",
       "  <tbody>\n",
       "    <tr>\n",
       "      <th>count</th>\n",
       "      <td>64.000000</td>\n",
       "    </tr>\n",
       "    <tr>\n",
       "      <th>mean</th>\n",
       "      <td>2145.484375</td>\n",
       "    </tr>\n",
       "    <tr>\n",
       "      <th>std</th>\n",
       "      <td>3812.310186</td>\n",
       "    </tr>\n",
       "    <tr>\n",
       "      <th>min</th>\n",
       "      <td>2.000000</td>\n",
       "    </tr>\n",
       "    <tr>\n",
       "      <th>25%</th>\n",
       "      <td>20.750000</td>\n",
       "    </tr>\n",
       "    <tr>\n",
       "      <th>50%</th>\n",
       "      <td>178.500000</td>\n",
       "    </tr>\n",
       "    <tr>\n",
       "      <th>75%</th>\n",
       "      <td>2106.500000</td>\n",
       "    </tr>\n",
       "    <tr>\n",
       "      <th>max</th>\n",
       "      <td>19558.000000</td>\n",
       "    </tr>\n",
       "  </tbody>\n",
       "</table>\n",
       "</div>"
      ],
      "text/plain": [
       "       trips_amount\n",
       "count     64.000000\n",
       "mean    2145.484375\n",
       "std     3812.310186\n",
       "min        2.000000\n",
       "25%       20.750000\n",
       "50%      178.500000\n",
       "75%     2106.500000\n",
       "max    19558.000000"
      ]
     },
     "execution_count": 20,
     "metadata": {},
     "output_type": "execute_result"
    }
   ],
   "source": [
    "company.describe()"
   ]
  },
  {
   "cell_type": "code",
   "execution_count": 21,
   "metadata": {},
   "outputs": [
    {
     "data": {
      "text/html": [
       "<div>\n",
       "<style scoped>\n",
       "    .dataframe tbody tr th:only-of-type {\n",
       "        vertical-align: middle;\n",
       "    }\n",
       "\n",
       "    .dataframe tbody tr th {\n",
       "        vertical-align: top;\n",
       "    }\n",
       "\n",
       "    .dataframe thead th {\n",
       "        text-align: right;\n",
       "    }\n",
       "</style>\n",
       "<table border=\"1\" class=\"dataframe\">\n",
       "  <thead>\n",
       "    <tr style=\"text-align: right;\">\n",
       "      <th></th>\n",
       "      <th>average_trips</th>\n",
       "    </tr>\n",
       "  </thead>\n",
       "  <tbody>\n",
       "    <tr>\n",
       "      <th>count</th>\n",
       "      <td>94.000000</td>\n",
       "    </tr>\n",
       "    <tr>\n",
       "      <th>mean</th>\n",
       "      <td>599.953728</td>\n",
       "    </tr>\n",
       "    <tr>\n",
       "      <th>std</th>\n",
       "      <td>1714.591098</td>\n",
       "    </tr>\n",
       "    <tr>\n",
       "      <th>min</th>\n",
       "      <td>1.800000</td>\n",
       "    </tr>\n",
       "    <tr>\n",
       "      <th>25%</th>\n",
       "      <td>14.266667</td>\n",
       "    </tr>\n",
       "    <tr>\n",
       "      <th>50%</th>\n",
       "      <td>52.016667</td>\n",
       "    </tr>\n",
       "    <tr>\n",
       "      <th>75%</th>\n",
       "      <td>298.858333</td>\n",
       "    </tr>\n",
       "    <tr>\n",
       "      <th>max</th>\n",
       "      <td>10727.466667</td>\n",
       "    </tr>\n",
       "  </tbody>\n",
       "</table>\n",
       "</div>"
      ],
      "text/plain": [
       "       average_trips\n",
       "count      94.000000\n",
       "mean      599.953728\n",
       "std      1714.591098\n",
       "min         1.800000\n",
       "25%        14.266667\n",
       "50%        52.016667\n",
       "75%       298.858333\n",
       "max     10727.466667"
      ]
     },
     "execution_count": 21,
     "metadata": {},
     "output_type": "execute_result"
    }
   ],
   "source": [
    "location.describe()"
   ]
  },
  {
   "cell_type": "code",
   "execution_count": 22,
   "metadata": {},
   "outputs": [
    {
     "data": {
      "text/html": [
       "<div>\n",
       "<style scoped>\n",
       "    .dataframe tbody tr th:only-of-type {\n",
       "        vertical-align: middle;\n",
       "    }\n",
       "\n",
       "    .dataframe tbody tr th {\n",
       "        vertical-align: top;\n",
       "    }\n",
       "\n",
       "    .dataframe thead th {\n",
       "        text-align: right;\n",
       "    }\n",
       "</style>\n",
       "<table border=\"1\" class=\"dataframe\">\n",
       "  <thead>\n",
       "    <tr style=\"text-align: right;\">\n",
       "      <th></th>\n",
       "      <th>duration_seconds</th>\n",
       "    </tr>\n",
       "  </thead>\n",
       "  <tbody>\n",
       "    <tr>\n",
       "      <th>count</th>\n",
       "      <td>871.000000</td>\n",
       "    </tr>\n",
       "    <tr>\n",
       "      <th>mean</th>\n",
       "      <td>2096.308840</td>\n",
       "    </tr>\n",
       "    <tr>\n",
       "      <th>std</th>\n",
       "      <td>782.274717</td>\n",
       "    </tr>\n",
       "    <tr>\n",
       "      <th>min</th>\n",
       "      <td>0.000000</td>\n",
       "    </tr>\n",
       "    <tr>\n",
       "      <th>25%</th>\n",
       "      <td>1440.000000</td>\n",
       "    </tr>\n",
       "    <tr>\n",
       "      <th>50%</th>\n",
       "      <td>2015.000000</td>\n",
       "    </tr>\n",
       "    <tr>\n",
       "      <th>75%</th>\n",
       "      <td>2584.000000</td>\n",
       "    </tr>\n",
       "    <tr>\n",
       "      <th>max</th>\n",
       "      <td>7440.000000</td>\n",
       "    </tr>\n",
       "  </tbody>\n",
       "</table>\n",
       "</div>"
      ],
      "text/plain": [
       "       duration_seconds\n",
       "count        871.000000\n",
       "mean        2096.308840\n",
       "std          782.274717\n",
       "min            0.000000\n",
       "25%         1440.000000\n",
       "50%         2015.000000\n",
       "75%         2584.000000\n",
       "max         7440.000000"
      ]
     },
     "execution_count": 22,
     "metadata": {},
     "output_type": "execute_result"
    }
   ],
   "source": [
    "airport_trips.describe()"
   ]
  },
  {
   "cell_type": "markdown",
   "metadata": {},
   "source": [
    "<div class=\"alert alert-block alert-success\">\n",
    "\n",
    "<b>Comentario del revisor</b> <a class=\"tocSkip\"></a>\n",
    "\n",
    "Excelentes metodos para el EDA. </div>"
   ]
  },
  {
   "cell_type": "markdown",
   "metadata": {},
   "source": [
    "## 2.6 Conclusiones"
   ]
  },
  {
   "cell_type": "markdown",
   "metadata": {},
   "source": [
    "* Dataset \"COMPANY\":\n",
    "    * Es un extracto de datos madre para las fechas específicas del 15 y 16 de Noviembre de 2017, y con la función agregada de sumar todos los viajes realizados agrupados por empresa.\n",
    "    * No presenta errores en los NOMBRES DE CAMPOS\n",
    "    * No presenta errores en los TIPOS DE DATOS\n",
    "    * No presenta VALORES AUSENTES\n",
    "    * No presenta VALORES DUPLICADOS\n",
    "* Dataset \"LOCATION\":\n",
    "    * Es un extracto de datos madre para el período específico de Noviembre 2017, con la función agregada de promedio de viajes agrupados por locación de destino.\n",
    "    * No presenta errores en los NOMBRES DE CAMPOS\n",
    "    * No presenta errores en los TIPOS DE DATOS\n",
    "    * No presenta VALORES AUSENTES\n",
    "    * No presenta VALORES DUPLICADOS\n",
    "    \n",
    "Para estos dos primeros datasets,considero que es importante destacar que son extractos de una tabla principal de registros, y que además de agrupados están filtrados por fechas específicas. Si bien ambos datasets proveen información, resulta bastante acotada pues no puede evaluarse estacionalidad o días de semana, o cantidad de pasajeros, ni locación de origen.\n",
    "\n",
    "* Dataset \"AIRPORT_TRIPS\":\n",
    "    * Es un extracto de registros de viajes, filtrados para los días Sábado entre 04nov2017 y 25nov2017. Cada viaje muestra su duración expresada en segundos, y' está clasificado como \"good\" o \"bad\" de acuerdo a las condiciones meteorológicas que tuvo.\n",
    "    * No presenta errores en los NOMBRES DE CAMPOS\n",
    "    * En los TIPOS DE DATOS, se actualiza el formato \"fecha\" del campo \"start_ts\"\n",
    "    * No presenta VALORES AUSENTES\n",
    "    * Presenta un total de 197 VALORES DUPLICADOS, los cuales se han eliminado\n"
   ]
  },
  {
   "cell_type": "markdown",
   "metadata": {},
   "source": [
    "<div class=\"alert alert-block alert-danger\">\n",
    "\n",
    "<b>Comentario del revisor</b> <a class=\"tocSkip\"></a>\n",
    "\n",
    "Extendete en la descripcion de lo observado en este dataset en cuanto a como se compone y que informacion nos provee. Este punto es muy importante porque resumiremos con un analisis en **markdown** sobre como esta compuesto el dataset y sus variables mas importante. </div>\n",
    "\n",
    "<div class=\"alert alert-block alert-danger\">\n",
    "\n",
    "<b>Comentario del revisor</b> <a class=\"tocSkip\"></a>\n",
    "\n",
    "Falta el analisis del dataset `airport_trips`</div>"
   ]
  },
  {
   "cell_type": "markdown",
   "metadata": {},
   "source": [
    "<div class=\"alert alert-block alert-info\">\n",
    "\n",
    "* Se agregan observaciones de los datasets en cuanto a composición e información provista.\n",
    "* Se ha agregado al análisis el dataset \"airport_trips\".\n",
    "</div>\n",
    "\n",
    "<div class=\"alert alert-block alert-success\">\n",
    "\n",
    "<b>Comentario del revisor</b> <a class=\"tocSkip\"></a>\n",
    "\n",
    "Corregido. Excelente Juan.\n",
    "</div>"
   ]
  },
  {
   "cell_type": "markdown",
   "metadata": {},
   "source": [
    "# Paso 3. Análisis de Datos"
   ]
  },
  {
   "cell_type": "markdown",
   "metadata": {},
   "source": [
    "## 3.1 Top Tens"
   ]
  },
  {
   "cell_type": "markdown",
   "metadata": {},
   "source": [
    "<div class=\"alert alert-block alert-danger\">\n",
    "\n",
    "<b>Comentario del revisor</b> <a class=\"tocSkip\"></a>\n",
    "\n",
    "Crea una tabla  para mostrar el top 10 de las compañias de taxis </div>"
   ]
  },
  {
   "cell_type": "markdown",
   "metadata": {},
   "source": [
    "<div class=\"alert alert-block alert-info\">\n",
    "\n",
    "A continuación vemos la tabla que muestra el top 10 de empresas de taxis en cuanto a la cantidad de viajes.\n",
    "</div>\n",
    "\n",
    "<div class=\"alert alert-block alert-success\">\n",
    "\n",
    "<b>Comentario del revisor</b> <a class=\"tocSkip\"></a>\n",
    "\n",
    "Corregido.\n",
    "</div>"
   ]
  },
  {
   "cell_type": "code",
   "execution_count": 23,
   "metadata": {},
   "outputs": [
    {
     "data": {
      "text/html": [
       "<div>\n",
       "<style scoped>\n",
       "    .dataframe tbody tr th:only-of-type {\n",
       "        vertical-align: middle;\n",
       "    }\n",
       "\n",
       "    .dataframe tbody tr th {\n",
       "        vertical-align: top;\n",
       "    }\n",
       "\n",
       "    .dataframe thead th {\n",
       "        text-align: right;\n",
       "    }\n",
       "</style>\n",
       "<table border=\"1\" class=\"dataframe\">\n",
       "  <thead>\n",
       "    <tr style=\"text-align: right;\">\n",
       "      <th></th>\n",
       "      <th>trips_amount</th>\n",
       "    </tr>\n",
       "    <tr>\n",
       "      <th>company_name</th>\n",
       "      <th></th>\n",
       "    </tr>\n",
       "  </thead>\n",
       "  <tbody>\n",
       "    <tr>\n",
       "      <th>Flash Cab</th>\n",
       "      <td>19558</td>\n",
       "    </tr>\n",
       "    <tr>\n",
       "      <th>Taxi Affiliation Services</th>\n",
       "      <td>11422</td>\n",
       "    </tr>\n",
       "    <tr>\n",
       "      <th>Medallion Leasin</th>\n",
       "      <td>10367</td>\n",
       "    </tr>\n",
       "    <tr>\n",
       "      <th>Yellow Cab</th>\n",
       "      <td>9888</td>\n",
       "    </tr>\n",
       "    <tr>\n",
       "      <th>Taxi Affiliation Service Yellow</th>\n",
       "      <td>9299</td>\n",
       "    </tr>\n",
       "    <tr>\n",
       "      <th>Chicago Carriage Cab Corp</th>\n",
       "      <td>9181</td>\n",
       "    </tr>\n",
       "    <tr>\n",
       "      <th>City Service</th>\n",
       "      <td>8448</td>\n",
       "    </tr>\n",
       "    <tr>\n",
       "      <th>Sun Taxi</th>\n",
       "      <td>7701</td>\n",
       "    </tr>\n",
       "    <tr>\n",
       "      <th>Star North Management LLC</th>\n",
       "      <td>7455</td>\n",
       "    </tr>\n",
       "    <tr>\n",
       "      <th>Blue Ribbon Taxi Association Inc.</th>\n",
       "      <td>5953</td>\n",
       "    </tr>\n",
       "  </tbody>\n",
       "</table>\n",
       "</div>"
      ],
      "text/plain": [
       "                                   trips_amount\n",
       "company_name                                   \n",
       "Flash Cab                                 19558\n",
       "Taxi Affiliation Services                 11422\n",
       "Medallion Leasin                          10367\n",
       "Yellow Cab                                 9888\n",
       "Taxi Affiliation Service Yellow            9299\n",
       "Chicago Carriage Cab Corp                  9181\n",
       "City Service                               8448\n",
       "Sun Taxi                                   7701\n",
       "Star North Management LLC                  7455\n",
       "Blue Ribbon Taxi Association Inc.          5953"
      ]
     },
     "execution_count": 23,
     "metadata": {},
     "output_type": "execute_result"
    }
   ],
   "source": [
    "top_tens_company = company.pivot_table(index='company_name', values='trips_amount', aggfunc='sum')\n",
    "top_tens_company = top_tens_company.sort_values(by='trips_amount', axis=0, ascending=False).head(10)  # Sort by trips_amount in descending order\n",
    "top_tens_company"
   ]
  },
  {
   "cell_type": "code",
   "execution_count": 24,
   "metadata": {
    "scrolled": true
   },
   "outputs": [
    {
     "data": {
      "image/png": "[encoded data removed]",
      "text/plain": [
       "<Figure size 432x288 with 1 Axes>"
      ]
     },
     "metadata": {
      "needs_background": "light"
     },
     "output_type": "display_data"
    }
   ],
   "source": [
    "f, ax = plt.subplots(figsize=(6, 4))\n",
    "barplot = sns.barplot(x=\"trips_amount\", y=\"company_name\", data=company.head(10))\n",
    "\n",
    "for index, value in enumerate(company.head(10)['trips_amount']):\n",
    "    barplot.text(value, index, str(value), ha='left', va='center')\n",
    "\n",
    "ax.set(ylabel=\"Company\", xlabel=\"Trips Total\", title='Total of trips amount per company (15&16nov) - Top 10 companies')\n",
    "ax.set_xlim(right=25000)\n",
    "plt.show()\n"
   ]
  },
  {
   "cell_type": "markdown",
   "metadata": {},
   "source": [
    "Conclusiones: Según el gráfico de barras, las empresas de taxis \"Flash Cab\" y \"Taxi Affiliation Services\" son las dos principales en términos de cantidad de viajes para el período específico de los días 15 y 16 de noviembre de 2017."
   ]
  },
  {
   "cell_type": "markdown",
   "metadata": {},
   "source": [
    "<div class=\"alert alert-block alert-danger\">\n",
    "\n",
    "<b>Comentario del revisor</b> <a class=\"tocSkip\"></a>\n",
    "\n",
    "En cuanto al grafico, siempre establece un titulo descriptivo.\n",
    "\n",
    "Ademas corregi que la etiqueta del top 1 se superpone al cuadrado del plot.</div>\n",
    "\n",
    "<div class=\"alert alert-block alert-success\">\n",
    "\n",
    "<b>Comentario del revisor</b> <a class=\"tocSkip\"></a>\n",
    "\n",
    "Corregido.\n",
    "</div>"
   ]
  },
  {
   "cell_type": "markdown",
   "metadata": {},
   "source": [
    "<div class=\"alert alert-block alert-info\">\n",
    "\n",
    "* Se agrega un título descriptivo\n",
    "* Se corrige el límite del eje X para evitar superposición de valores con el borde del gráfico    \n",
    "</div>"
   ]
  },
  {
   "cell_type": "markdown",
   "metadata": {},
   "source": [
    "<div class=\"alert alert-block alert-danger\">\n",
    "\n",
    "<b>Comentario del revisor</b> <a class=\"tocSkip\"></a>\n",
    "\n",
    "Crea una tabla  para mostrar el top 10 de los distintos barrios. </div>"
   ]
  },
  {
   "cell_type": "markdown",
   "metadata": {},
   "source": [
    "<div class=\"alert alert-block alert-info\">\n",
    "* Se agrega una tabla con las empresas top 10.\n",
    "</div>\n",
    "\n",
    "<div class=\"alert alert-block alert-success\">\n",
    "\n",
    "<b>Comentario del revisor</b> <a class=\"tocSkip\"></a>\n",
    "\n",
    "Corregido. Muy bien.\n",
    "</div>"
   ]
  },
  {
   "cell_type": "code",
   "execution_count": 25,
   "metadata": {},
   "outputs": [
    {
     "data": {
      "image/png": "[encoded data removed]",
      "text/plain": [
       "<Figure size 432x288 with 1 Axes>"
      ]
     },
     "metadata": {
      "needs_background": "light"
     },
     "output_type": "display_data"
    }
   ],
   "source": [
    "f, ax = plt.subplots(figsize=(6, 4))\n",
    "#sns.barplot(x=\"average_trips\", y=\"dropoff_location_name\", data=location.head(10))\n",
    "\n",
    "barplot = sns.barplot(x=\"average_trips\", y=\"dropoff_location_name\", data=location.head(10))\n",
    "\n",
    "for index, value in enumerate(location.head(10)['average_trips'].round(0)):\n",
    "    barplot.text(value, index, str(value), ha='left', va='center')\n",
    "\n",
    "ax.set(ylabel=\"Location\", xlabel=\"Tips Average\", title=\"Total of average trips per location (nov2017) - Top 10 locations\")\n",
    "ax.set_xlim(right=15000)\n",
    "plt.show()"
   ]
  },
  {
   "cell_type": "markdown",
   "metadata": {},
   "source": [
    "Conclusiones: En cuanto a las locaciones, los puntos de destino más elegidos son \"Loop\" y \"River North\"."
   ]
  },
  {
   "cell_type": "markdown",
   "metadata": {},
   "source": [
    "<div class=\"alert alert-block alert-danger\">\n",
    "\n",
    "<b>Comentario del revisor</b> <a class=\"tocSkip\"></a>\n",
    "\n",
    "En cuanto al grafico, siempre establece un titulo descriptivo.\n",
    "\n",
    "Ademas corregi que la etiqueta del top 1 se superpone al cuadrado del plot.</div>"
   ]
  },
  {
   "cell_type": "markdown",
   "metadata": {},
   "source": [
    "<div class=\"alert alert-block alert-info\">\n",
    "Muchas gracias por esta observación, tendré en cuenta este concepto de ahora en adelante.   \n",
    "</div>\n",
    "\n",
    "<div class=\"alert alert-block alert-success\">\n",
    "\n",
    "<b>Comentario del revisor</b> <a class=\"tocSkip\"></a>\n",
    "\n",
    "Corregido.\n",
    "</div>"
   ]
  },
  {
   "cell_type": "markdown",
   "metadata": {},
   "source": [
    "## 3.2 Histogramas"
   ]
  },
  {
   "cell_type": "code",
   "execution_count": 26,
   "metadata": {},
   "outputs": [
    {
     "data": {
      "text/plain": [
       "[Text(0, 0.5, 'Ocurrences'),\n",
       " Text(0.5, 0, 'Trips Sum'),\n",
       " Text(0.5, 1.0, 'Total of trips amount per company (15&16nov) - Histogram')]"
      ]
     },
     "execution_count": 26,
     "metadata": {},
     "output_type": "execute_result"
    },
    {
     "data": {
      "image/png": "[encoded data removed]",
      "text/plain": [
       "<Figure size 1152x288 with 1 Axes>"
      ]
     },
     "metadata": {
      "needs_background": "light"
     },
     "output_type": "display_data"
    }
   ],
   "source": [
    "f, ax = plt.subplots(figsize=(16, 4))\n",
    "\n",
    "sns.histplot(company, x=\"trips_amount\", bins=8)\n",
    "ax.set(ylabel=\"Ocurrences\", xlabel=\"Trips Sum\", title=\"Total of trips amount per company (15&16nov) - Histogram\")"
   ]
  },
  {
   "cell_type": "markdown",
   "metadata": {},
   "source": [
    "Conclusión:\n",
    "\n",
    "* Cabe recordar que el dataset utilizado muestra una lista de empresas con su respectiva cantidad de viajes.\n",
    "* El eje \"X\" tiene un total de 8 columnas o agrupaciones de rangos de valores para el total de viajes de cada empresa.\n",
    "* El eje \"Y\" brinda el número de ocurrencias en que se repite el evento de \"empresa que tiene un total de viajes\" en el rango x1-x2. \n",
    "* El histograma muestra el número de ocurrencias para cada rango de valores. Por ejemplo, se muestran 50 ocurrencias para el rango entre 0 y 2500. Esto quiere decir que hay 50 empresas (eventos en este caso) que han sumado entre 0 y 2500 viajes. "
   ]
  },
  {
   "cell_type": "code",
   "execution_count": 27,
   "metadata": {},
   "outputs": [
    {
     "data": {
      "text/plain": [
       "[Text(0, 0.5, 'Ocurrences'),\n",
       " Text(0.5, 0, 'Trips Average'),\n",
       " Text(0.5, 1.0, 'Total of average trips per location (Nov2017) - Histogram')]"
      ]
     },
     "execution_count": 27,
     "metadata": {},
     "output_type": "execute_result"
    },
    {
     "data": {
      "image/png": "[encoded data removed]",
      "text/plain": [
       "<Figure size 1152x288 with 1 Axes>"
      ]
     },
     "metadata": {
      "needs_background": "light"
     },
     "output_type": "display_data"
    }
   ],
   "source": [
    "f, ax = plt.subplots(figsize=(16, 4))\n",
    "sns.histplot(location, x=\"average_trips\", bins=5)\n",
    "ax.set(ylabel=\"Ocurrences\", xlabel=\"Trips Average\", title=\"Total of average trips per location (Nov2017) - Histogram\")"
   ]
  },
  {
   "cell_type": "markdown",
   "metadata": {},
   "source": [
    "Conclusión:\n",
    "\n",
    "* Cabe recordar que el dataset utilizado muestra una lista de locaciones con su respectiva cantidad de viajes promedio.\n",
    "* El eje \"X\" tiene un total de 5 columnas o agrupaciones de rangos de valores para el total de viajes de cada locación.\n",
    "* El eje \"Y\" brinda el número de ocurrencias en que se repite el evento de \"locación con promedio de viajes\" en el rango x1-x2. \n",
    "* El histograma muestra el número de ocurrencias para cada rango de valores. Por ejemplo, se muestran 90 ocurrencias para el rango entre 0 y 2000 aproximadamente. Esto quiere decir que hay 90 locaciones (eventos en este caso) que han promediado entre 0 y 2000 viajes. "
   ]
  },
  {
   "cell_type": "markdown",
   "metadata": {},
   "source": [
    "## 3.3 Boxplot"
   ]
  },
  {
   "cell_type": "code",
   "execution_count": 28,
   "metadata": {},
   "outputs": [
    {
     "name": "stdout",
     "output_type": "stream",
     "text": [
      "mean 2145.5\n",
      "median 178.5\n",
      "maximum 19558\n",
      "cuartiles\n",
      "0.25      20.8\n",
      "0.50     178.5\n",
      "0.75    2106.5\n",
      "Name: trips_amount, dtype: float64\n"
     ]
    }
   ],
   "source": [
    "print(f\"mean {company['trips_amount'].mean().round(1)}\")\n",
    "print(f\"median {company['trips_amount'].median()}\")\n",
    "print(f\"maximum {company['trips_amount'].max()}\")\n",
    "print('cuartiles')\n",
    "print(company['trips_amount'].quantile([0.25, 0.5, 0.75]).round(1))"
   ]
  },
  {
   "cell_type": "code",
   "execution_count": 29,
   "metadata": {},
   "outputs": [
    {
     "data": {
      "image/png": "[encoded data removed]",
      "text/plain": [
       "<Figure size 1152x288 with 1 Axes>"
      ]
     },
     "metadata": {
      "needs_background": "light"
     },
     "output_type": "display_data"
    }
   ],
   "source": [
    "f, ax = plt.subplots(figsize=(16, 4))\n",
    "sns.boxplot(x=\"trips_amount\", data=company, orient=\"h\")\n",
    "\n",
    "ax.set(xlabel=\"Trips Sum\", title=\"Total of trips amount per company (15&16nov) - Boxplot\")\n",
    "plt.show()"
   ]
  },
  {
   "cell_type": "markdown",
   "metadata": {},
   "source": [
    "El boxplot ofrece una visualización rápida de la variabilidad de los valores de la serie evaluada, en este caso la suma de viajes de cada empresa.\n",
    "* En primer lugar, los valores fuera de los bigotes se consideran outliers o atípicos, lo cual explica el valor máximo de 19558.\n",
    "* Luego se observa que la mediana de 178.5 presenta un valor bajo en relación al volumen de datos. Esto quiere decir que la mitad de las empresas han sumado una cantidad de viajes de 178.5 o menos. La otra mitad de las empresas suman entre 178.5 y 2106.5. "
   ]
  },
  {
   "cell_type": "markdown",
   "metadata": {},
   "source": [
    "También podemos ver el boxplot en escala logarítmica para una mejor visualización."
   ]
  },
  {
   "cell_type": "code",
   "execution_count": 30,
   "metadata": {},
   "outputs": [
    {
     "data": {
      "image/png": "[encoded data removed]",
      "text/plain": [
       "<Figure size 1152x288 with 1 Axes>"
      ]
     },
     "metadata": {
      "needs_background": "light"
     },
     "output_type": "display_data"
    }
   ],
   "source": [
    "f, ax = plt.subplots(figsize=(16, 4))\n",
    "ax.set_xscale(\"log\")\n",
    "sns.boxplot(x=\"trips_amount\", data=company, orient=\"h\")\n",
    "sns.despine(offset=10, trim=True)\n",
    "\n",
    "ax.set(xlabel=\"Trips Sum\", ylabel=\"\", title=\"Total of trips amount per company (15&16nov) - Boxplot\")\n",
    "plt.show()"
   ]
  },
  {
   "cell_type": "code",
   "execution_count": 31,
   "metadata": {},
   "outputs": [
    {
     "name": "stdout",
     "output_type": "stream",
     "text": [
      "mean 600.0\n",
      "median 52.0\n",
      "maximum 10727.5\n",
      "cuartiles\n",
      "0.25     14.3\n",
      "0.50     52.0\n",
      "0.75    298.9\n",
      "Name: average_trips, dtype: float64\n"
     ]
    }
   ],
   "source": [
    "print(f\"mean {location['average_trips'].mean().round(1)}\")\n",
    "print(f\"median {location['average_trips'].median().round(1)}\")\n",
    "print(f\"maximum {location['average_trips'].max().round(1)}\")\n",
    "print('cuartiles')\n",
    "print(location['average_trips'].quantile([0.25, 0.5, 0.75]).round(1))"
   ]
  },
  {
   "cell_type": "code",
   "execution_count": 32,
   "metadata": {},
   "outputs": [
    {
     "data": {
      "image/png": "[encoded data removed]",
      "text/plain": [
       "<Figure size 1152x288 with 1 Axes>"
      ]
     },
     "metadata": {
      "needs_background": "light"
     },
     "output_type": "display_data"
    }
   ],
   "source": [
    "f, ax = plt.subplots(figsize=(16, 4))\n",
    "sns.boxplot(x=\"average_trips\", data=location, orient=\"h\")\n",
    "\n",
    "ax.set(xlabel=\"Trips Average\", title=\"Total of average trips per location (Nov2017) - Boxplot\")\n",
    "plt.show()"
   ]
  },
  {
   "cell_type": "markdown",
   "metadata": {},
   "source": [
    "El boxplot ofrece una visualización rápida de la variabilidad de los valores de la serie evaluada, en este caso la el promedio de viajes de cada locación.\n",
    "* En primer lugar, los valores fuera de los bigotes se consideran outliers o atípicos, lo cual explica el valor máximo de 10727.5.\n",
    "* Luego se observa que la mediana de 52.0 presenta un valor bajo en relación al volumen de datos. Esto quiere decir que la mitad de las locaciones tienen un promedio de  viajes de 52.0 o menos. La otra mitad de las locaciones tiene promedios de entre 52.0 y 298.9. "
   ]
  },
  {
   "cell_type": "markdown",
   "metadata": {},
   "source": [
    "Del mismo modo que en el gráfico anterior, podemos ver el boxplot en escala logarítmica para una mejor visualización."
   ]
  },
  {
   "cell_type": "code",
   "execution_count": 33,
   "metadata": {},
   "outputs": [
    {
     "data": {
      "image/png": "[encoded data removed]",
      "text/plain": [
       "<Figure size 1152x288 with 1 Axes>"
      ]
     },
     "metadata": {
      "needs_background": "light"
     },
     "output_type": "display_data"
    }
   ],
   "source": [
    "f, ax = plt.subplots(figsize=(16, 4))\n",
    "sns.boxplot(x=\"average_trips\", data=location, orient=\"h\")\n",
    "ax.set_xscale(\"log\")\n",
    "\n",
    "ax.set(xlabel=\"Trips Average\", title=\"Total of average trips per location (Nov2017) - Boxplot\")\n",
    "plt.show()"
   ]
  },
  {
   "cell_type": "markdown",
   "metadata": {},
   "source": [
    "<div class=\"alert alert-block alert-danger\">\n",
    "\n",
    "<b>Comentario del revisor</b> <a class=\"tocSkip\"></a>\n",
    "\n",
    "Faltaria las conclusiones de ambos top 10, identificando la distribucion y lo que se observa en los graficos.</div>"
   ]
  },
  {
   "cell_type": "markdown",
   "metadata": {},
   "source": [
    "<div class=\"alert alert-block alert-info\">\n",
    "Se han agregado las conclusiones pertinentes.\n",
    "</div>\n",
    "\n",
    "<div class=\"alert alert-block alert-success\">\n",
    "\n",
    "<b>Comentario del revisor</b> <a class=\"tocSkip\"></a>\n",
    "\n",
    "Corregido. Buenas conclusiones.\n",
    "</div>"
   ]
  },
  {
   "cell_type": "markdown",
   "metadata": {},
   "source": [
    "# Paso 4. Ensayos de Hipótesis"
   ]
  },
  {
   "cell_type": "markdown",
   "metadata": {},
   "source": [
    "<div class=\"alert alert-block alert-danger\">\n",
    "\n",
    "<b>Comentario del revisor</b> <a class=\"tocSkip\"></a>\n",
    "\n",
    "Siempre que realizamos test de hipotesis debemos exponer cual es la hipotesis nula y cual la alternativa (con un markdown). Mas alla que lo reealices o no en el codigo.</div>"
   ]
  },
  {
   "cell_type": "markdown",
   "metadata": {},
   "source": [
    "<div class=\"alert alert-block alert-info\">\n",
    "Se agrega una introducción exponiendo la hipótesis nula y la alternativa. \n",
    "</div>"
   ]
  },
  {
   "cell_type": "markdown",
   "metadata": {},
   "source": [
    "<div class=\"alert alert-block alert-danger\">\n",
    "\n",
    "<b>Comentario del revisor</b> <a class=\"tocSkip\"></a>\n",
    "\n",
    "Carga el dataset en la celda correspondiente. Esto constituye una buena practica.\n",
    "</div>"
   ]
  },
  {
   "cell_type": "markdown",
   "metadata": {},
   "source": [
    "<div class=\"alert alert-block alert-info\">\n",
    "Se carga el dataset al inicio del tp en el paso1.\n",
    "</div>\n",
    "\n",
    "<div class=\"alert alert-block alert-success\">\n",
    "\n",
    "<b>Comentario del revisor</b> <a class=\"tocSkip\"></a>\n",
    "\n",
    "Corregido.\n",
    "</div>"
   ]
  },
  {
   "cell_type": "markdown",
   "metadata": {},
   "source": [
    "Planteo de la hipótesis\n",
    "\"La duración promedio de los viajes desde el Loop hasta el Aeropuerto Internacional O'Hare cambia los sábados lluviosos\".\n",
    "\n",
    "Llamaremos \"mu\" a la media de la duración de todos los viajes, y \"mu_bad\" será la media de la duración de los viajes en días lluviosos.\n",
    "\n",
    "* x (variable a estudiar): duracion promedio de viajes desde el Loop hasta el aeropuerto los dias Sabados\n",
    "* alfa = 0.05 (nivel de significancia seleccionado)\n",
    "* H0: mu = mu_bad (hipótesis nula)\n",
    "* H1: mu <> mu_bad (hipótesis alternativa)"
   ]
  },
  {
   "cell_type": "markdown",
   "metadata": {},
   "source": [
    "Veamos el dataset filtrado para los días lluviosos:"
   ]
  },
  {
   "cell_type": "code",
   "execution_count": 34,
   "metadata": {},
   "outputs": [
    {
     "data": {
      "text/html": [
       "<div>\n",
       "<style scoped>\n",
       "    .dataframe tbody tr th:only-of-type {\n",
       "        vertical-align: middle;\n",
       "    }\n",
       "\n",
       "    .dataframe tbody tr th {\n",
       "        vertical-align: top;\n",
       "    }\n",
       "\n",
       "    .dataframe thead th {\n",
       "        text-align: right;\n",
       "    }\n",
       "</style>\n",
       "<table border=\"1\" class=\"dataframe\">\n",
       "  <thead>\n",
       "    <tr style=\"text-align: right;\">\n",
       "      <th></th>\n",
       "      <th>start_ts</th>\n",
       "      <th>weather_conditions</th>\n",
       "      <th>duration_seconds</th>\n",
       "      <th>weekday</th>\n",
       "    </tr>\n",
       "  </thead>\n",
       "  <tbody>\n",
       "    <tr>\n",
       "      <th>6</th>\n",
       "      <td>2017-11-04 16:00:00</td>\n",
       "      <td>Bad</td>\n",
       "      <td>2969.0</td>\n",
       "      <td>Saturday</td>\n",
       "    </tr>\n",
       "    <tr>\n",
       "      <th>30</th>\n",
       "      <td>2017-11-18 12:00:00</td>\n",
       "      <td>Bad</td>\n",
       "      <td>1980.0</td>\n",
       "      <td>Saturday</td>\n",
       "    </tr>\n",
       "    <tr>\n",
       "      <th>34</th>\n",
       "      <td>2017-11-04 17:00:00</td>\n",
       "      <td>Bad</td>\n",
       "      <td>2460.0</td>\n",
       "      <td>Saturday</td>\n",
       "    </tr>\n",
       "    <tr>\n",
       "      <th>51</th>\n",
       "      <td>2017-11-04 16:00:00</td>\n",
       "      <td>Bad</td>\n",
       "      <td>2760.0</td>\n",
       "      <td>Saturday</td>\n",
       "    </tr>\n",
       "    <tr>\n",
       "      <th>52</th>\n",
       "      <td>2017-11-18 12:00:00</td>\n",
       "      <td>Bad</td>\n",
       "      <td>2460.0</td>\n",
       "      <td>Saturday</td>\n",
       "    </tr>\n",
       "  </tbody>\n",
       "</table>\n",
       "</div>"
      ],
      "text/plain": [
       "              start_ts weather_conditions  duration_seconds   weekday\n",
       "6  2017-11-04 16:00:00                Bad            2969.0  Saturday\n",
       "30 2017-11-18 12:00:00                Bad            1980.0  Saturday\n",
       "34 2017-11-04 17:00:00                Bad            2460.0  Saturday\n",
       "51 2017-11-04 16:00:00                Bad            2760.0  Saturday\n",
       "52 2017-11-18 12:00:00                Bad            2460.0  Saturday"
      ]
     },
     "execution_count": 34,
     "metadata": {},
     "output_type": "execute_result"
    }
   ],
   "source": [
    "airport_trips_bad = airport_trips.loc[airport_trips['weather_conditions'] == 'Bad']\n",
    "airport_trips_bad.head()"
   ]
  },
  {
   "cell_type": "markdown",
   "metadata": {},
   "source": [
    "Veamos ahora las medias para todo el dataset y para los días lluviosos:"
   ]
  },
  {
   "cell_type": "markdown",
   "metadata": {},
   "source": [
    "Ensayaremos la siguiente hipótesis: \"La duración promedio de los viajes desde el Loop hasta el Aeropuerto Internacional O'Hare cambia los sábados lluviosos\". Veamos a continuación las medias y los desvíos estándar de ambas series para tener un primer indicador:"
   ]
  },
  {
   "cell_type": "code",
   "execution_count": 35,
   "metadata": {},
   "outputs": [
    {
     "name": "stdout",
     "output_type": "stream",
     "text": [
      "mu=2096.3; mu_bad=2409.2\n",
      "std=782.3; std_bad=751.5\n"
     ]
    }
   ],
   "source": [
    "serie_total = airport_trips['duration_seconds']\n",
    "serie_bad = airport_trips_bad['duration_seconds']\n",
    "\n",
    "mu = serie_total.mean().round(1)\n",
    "mu_bad = serie_bad.mean().round(1)\n",
    "\n",
    "std = serie_total.std().round(1)\n",
    "std_bad = serie_bad.std().round(1)\n",
    "\n",
    "print(f'mu={mu}; mu_bad={mu_bad}')\n",
    "print(f'std={std}; std_bad={std_bad}')"
   ]
  },
  {
   "cell_type": "markdown",
   "metadata": {},
   "source": [
    "La duración promedio de viajes de todo el conjunto de viajes es de 2096.3 segundos, mientras que la duración promedio de viajes los días lluviosos es de 2409.2. Este primer paso sugiere que los días lluviosos la duración es mayor. De todos modos, la simple comparación de medias no es suficiente para el análisis que debemos hacer.\n",
    "\n",
    "Elevaremos el detalle ensayando la hipótesis con la prueba de T-student. Para ello, primero haremos la prueba de Levene para verificar si el el equal var es true or false."
   ]
  },
  {
   "cell_type": "code",
   "execution_count": 38,
   "metadata": {},
   "outputs": [
    {
     "name": "stdout",
     "output_type": "stream",
     "text": [
      "ENSAYO DE LEVENE\n",
      "LeveneResult(statistic=0.3172077482464419, pvalue=0.5734146842198008)\n"
     ]
    }
   ],
   "source": [
    "print('ENSAYO DE LEVENE')\n",
    "print(st.levene(serie_total, serie_bad))"
   ]
  },
  {
   "cell_type": "markdown",
   "metadata": {},
   "source": [
    "Conclusiones:\n",
    "* El Test de Levene arroja un p-value = 0.573\n",
    "* Se comprueba que: p-value > VALOR CRITICO\n",
    "* NO se rechaza H0: las varianzas NO son significativamente diferentes ==> equal_var=True"
   ]
  },
  {
   "cell_type": "code",
   "execution_count": 39,
   "metadata": {},
   "outputs": [
    {
     "name": "stdout",
     "output_type": "stream",
     "text": [
      "ENSAYO DE T-STUDENT\n"
     ]
    },
    {
     "data": {
      "text/plain": [
       "Ttest_indResult(statistic=-4.524381074739313, pvalue=6.771258712545967e-06)"
      ]
     },
     "execution_count": 39,
     "metadata": {},
     "output_type": "execute_result"
    }
   ],
   "source": [
    "print('ENSAYO DE T-STUDENT')\n",
    "st.ttest_ind(serie_total, serie_bad, equal_var=True)"
   ]
  },
  {
   "cell_type": "markdown",
   "metadata": {},
   "source": [
    "* El T-test arroja un p-value = 6.77 e-6 = 0.00000677\n",
    "* Se comprueba que p-value < 0.5\n",
    "* Se rechaza H0: hay evidencia suficiente para establecer que las duraciones promedio de viajes NO son iguales"
   ]
  },
  {
   "cell_type": "markdown",
   "metadata": {},
   "source": [
    "<div class=\"alert alert-block alert-danger\">\n",
    "\n",
    "<b>Comentario del revisor</b> <a class=\"tocSkip\"></a>\n",
    "\n",
    "Cuidado, estas utilizando la prueba de Levene y no la de t-student (que es la importante en este caso).\n",
    "\n",
    "Levene nos sirve para identificar la igualdad o no de las varianzas.\n",
    "\n",
    "Es importante cuando realizamos esta prueba (t student) pero para confirmar si las varianzas son iguales o no para ambos conjuntos. Ya que el test de student tiene un parametro muy importante que es el equal_var = True/False, esta prueba nos permite ajustarlo.\n",
    " \n",
    "    \n",
    "En este caso  el H0 (hipotesis nulas): las varianzas de las poblaciones de las que se extraen las muestras son iguales. En otras palabras, hay homogeneidad de varianzas entre los grupos.\n",
    "\n",
    "H1 (hipotesis alternativa): las varianzas de las poblaciones de las que se extraen las muestras son diferentes. En otras palabras, hay heterogeneidad de varianzas entre los grupos.\n",
    "\n",
    "Un valor p se considera significativo si es menor que el nivel de significancia elegido -en tu caso el 0.05-. En este caso, como el valor p (0.14) es mayor que 0.05, no se considera significativo. \n",
    "    \n",
    "    \n",
    "Dicho esto faltaria hacer el t-student ajustando correctamente el parametro `equal_Var`\n",
    "</div>"
   ]
  },
  {
   "cell_type": "markdown",
   "metadata": {},
   "source": [
    "#<div class=\"alert alert-block alert-info\">\n",
    "Se ha corregido todo este punto que era bien relevante. Se agrega descripción del ensayo, y se corrige el tipo de ensayo a realizar.\n",
    "</div>\n",
    "\n",
    "<div class=\"alert alert-block alert-success\">\n",
    "\n",
    "<b>Comentario del revisor</b> <a class=\"tocSkip\"></a>\n",
    "\n",
    "Corregido.\n",
    "</div>\n",
    "\n",
    "\n",
    "\n",
    "<div class=\"alert alert-block alert-danger\">\n",
    "\n",
    "<b>Comentario del revisor #2</b> <a class=\"tocSkip\"></a>\n",
    "\n",
    "Levene deberia ir antes que la t- student ya que es la que verifica si el equal var es true or false.\n",
    "    \n",
    "La prueba de Levene se utiliza para evaluar la igualdad de varianzas entre dos o más grupos. El valor de la prueba es un estadístico F que se compara con un valor crítico de la distribución F con un nivel de significancia específico. Si el valor de la prueba es **menor** que el valor crítico, se rechaza la hipótesis nula de igualdad de varianzasy se concluye que las varianzas son significativamente diferentes.\n",
    "\n",
    "En este caso, el valor de la prueba (0.57) es mayor que el valor crítico. Por lo tanto, no se rechaza la hipótesis nula y se concluye que las varianzas no son significativamente diferentes. Por lo que el valor equal_var sera True.\n",
    "    \n",
    "Cambialo y estara excelente este punto.\n",
    "</div>\n",
    "<div class=\"alert alert-block alert-success\">\n",
    "\n",
    "<b>Comentario del revisor #3</b> <a class=\"tocSkip\"></a>\n",
    "\n",
    "Corregido. Excelente.\n",
    "</div>"
   ]
  },
  {
   "cell_type": "markdown",
   "metadata": {},
   "source": [
    "<div class=\"alert alert-block alert-info\">\n",
    "Muchas gracias por esta aclaración. \n",
    "</div>"
   ]
  },
  {
   "cell_type": "markdown",
   "metadata": {},
   "source": [
    "# Paso 5. Conclusiones"
   ]
  },
  {
   "cell_type": "markdown",
   "metadata": {},
   "source": [
    "Veremos a continuación un resumen de los pasos que se han seguido en este trabajo:\n",
    "\n",
    "* Paso0: breve desceripción y objetivos del trabajo\n",
    "* Paso1: importación de librerías adecuadas y carga de los tres datasets a trabajar\n",
    "* Paso2: EDA o Exploratory Data Analysis. Se chequean los nombres de los campos, se analizan los tipos de datos, datos nulos y/o ausentes, así xomo los duplicados. Se plantea este paso para chequear los datos en crudo y prepararlos de ser necesario para los pasos siguientes pasos de análisis. \n",
    "* Paso3: Se hace un análisis de los datos, detallando sus principales observaciones. Se han revisado las compañías y locaciones más populares mediante gráficos de barras horizontales. Luego, se ha utilizado histogramas y boxplots para evaluar la distribución de valores de ambos datasets\n",
    "\n",
    "* Top Tens de empresas de taxis y ubicaciones:\n",
    "Según el gráfico de barras, las empresas de taxis \"Flash Cab\" y \"Taxi Affiliation Services\" son las dos principales en términos de cantidad de viajes para el período específico de los días 15 y 16 de noviembre de 2017.\n",
    "En cuanto a las ubicaciones, los 10 principales barrios en términos de cantidad promedio de viajes son visualizados en el segundo gráfico de barras. Estos podrían ser áreas con alta demanda de servicios de taxi durante el período considerado.\n",
    "\n",
    "* Histogramas:\n",
    "Los histogramas muestran la distribución de la cantidad total de viajes para los días 15 y 16 de noviembre de 2017, así como la distribución de la cantidad promedio de viajes para todo noviembre de 2017. Ambas distribuciones pueden proporcionar información útil sobre la variabilidad en la cantidad de viajes.\n",
    "\n",
    "* Boxplots:\n",
    "Los boxplots muestran la distribución de la cantidad total de viajes y la cantidad promedio de viajes. Pueden ayudar a identificar valores atípicos y proporcionar una comprensión visual de la dispersión de los datos.\n",
    "\n",
    "* Paso4: Ensayo de hipótesis:\n",
    "Se planteó la hipótesis de que la duración promedio de los viajes desde el Loop hasta el Aeropuerto Internacional O'Hare cambia los sábados lluviosos.\n",
    "El análisis de t-test mostró que hay evidencia suficiente para rechazar la hipótesis nula, lo que sugiere que las duraciones promedio de los viajes podrían ser diferentes los sábados lluviosos en comparación con otros días."
   ]
  },
  {
   "cell_type": "markdown",
   "metadata": {},
   "source": [
    "<div class=\"alert alert-block alert-warning\">\n",
    "\n",
    "<b>Comentario del revisor</b> <a class=\"tocSkip\"></a>\n",
    "\n",
    "Esta excelente como lo planteaste ademas la conclusion final debe contener todo lo que se hizo en el proyecto de forma enumerada o items.\n",
    "\n",
    "Desde la carga e importacion, pasando por los cambios realizado (Y el porque de esas decisiones). Agregando lo que se hizo en cada seccion a modo resumen y las conclusiones del  trabajo.\n",
    "\n",
    "Sirve como resumen de lo realizado en cada proyecto.</div>\n",
    "\n",
    "<div class=\"alert alert-block alert-success\">\n",
    "\n",
    "<b>Comentario del revisor</b> <a class=\"tocSkip\"></a>\n",
    "\n",
    "Corregido, excelente.</div>\n",
    "\n"
   ]
  },
  {
   "cell_type": "markdown",
   "metadata": {},
   "source": [
    "<div class=\"alert alert-block alert-danger\">\n",
    "\n",
    "<b>Comentario general #1</b> <a class=\"tocSkip\"></a>\n",
    "\n",
    "Juan muy bueno el proyecto que entregaste.\n",
    "\n",
    "En general trataste todo de muy buena forma, me encanto como enfocaste el EDA.\n",
    "\n",
    "Recorda realizar observaciones (Es muy importante en nuestro sector) como asi tambien realizar el t-student -fundamental-.\n",
    "\n",
    "Pero como te digo el proyecto esta muy bien.\n",
    "\n",
    "Espero tus correcciones, saludos.</div>"
   ]
  },
  {
   "cell_type": "markdown",
   "metadata": {},
   "source": [
    "<div class=\"alert alert-block alert-info\">\n",
    "13 Feb 2024: Estimado CR, agradezco su feedback. Por favor reciba esta nueva copia para su revisión. Gracias desde ya.\n",
    "</div>"
   ]
  },
  {
   "cell_type": "markdown",
   "metadata": {},
   "source": [
    "<div class=\"alert alert-block alert-danger\">\n",
    "\n",
    "<b>Comentario general #2</b> <a class=\"tocSkip\"></a>\n",
    "\n",
    "Juan, excelentes las correcciones. Cambiando el parametor estara aprobado el proyecto.\n",
    "\n",
    "Me encanto como quedo el trabajo con las nuevas correcciones.\n",
    "\n",
    "Quedo a la espera de tu correccion, saludos.</div>"
   ]
  },
  {
   "cell_type": "markdown",
   "metadata": {},
   "source": [
    "<div class=\"alert alert-block alert-info\">\n",
    "16 Feb 2024: Nuevamente agradezco su feedback. Envío nueva copia para revisión.\n",
    "</div>"
   ]
  },
  {
   "cell_type": "markdown",
   "metadata": {},
   "source": [
    "<div class=\"alert alert-block alert-success\">\n",
    "\n",
    "<b>Comentario del revisor #3</b> <a class=\"tocSkip\"></a>\n",
    "\n",
    "Juan, corregiste el ultimo detalle que faltaba por lo que el trabajo pasa a estar **aprobado**.\n",
    "\n",
    "Hiciste un gran proyecto de principio a fin y que cubriendo los detalles lograste hacer un trabajo completo y bien realizado.\n",
    "\n",
    "Me gusto mucho tanto las conclusiones como el analisis que aplicaste en todo el trabajo.\n",
    "\n",
    "Exitos en lo que viene, saludos.</div>"
   ]
  },
  {
   "cell_type": "code",
   "execution_count": null,
   "metadata": {},
   "outputs": [],
   "source": []
  }
 ],
 "metadata": {
  "kernelspec": {
   "display_name": "Python 3 (ipykernel)",
   "language": "python",
   "name": "python3"
  },
  "language_info": {
   "codemirror_mode": {
    "name": "ipython",
    "version": 3
   },
   "file_extension": ".py",
   "mimetype": "text/x-python",
   "name": "python",
   "nbconvert_exporter": "python",
   "pygments_lexer": "ipython3",
   "version": "3.9.5"
  },
  "toc": {
   "base_numbering": "",
   "nav_menu": {
    "height": "12px",
    "width": "160px"
   },
   "number_sections": false,
   "sideBar": true,
   "skip_h1_title": false,
   "title_cell": "Table of Contents",
   "title_sidebar": "Contents",
   "toc_cell": false,
   "toc_position": {
    "height": "calc(100% - 180px)",
    "left": "10px",
    "top": "150px",
    "width": "165px"
   },
   "toc_section_display": true,
   "toc_window_display": true
  }
 },
 "nbformat": 4,
 "nbformat_minor": 2
}
